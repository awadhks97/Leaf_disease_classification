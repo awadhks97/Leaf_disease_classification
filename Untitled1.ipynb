{
 "cells": [
  {
   "cell_type": "code",
   "execution_count": null,
   "id": "bb6f13ab-714d-4eed-b3bb-16d9884ac844",
   "metadata": {},
   "outputs": [],
   "source": [
    "import pyautogui\n",
    "import time\n",
    "\n",
    "# This function will right click at the current mouse position\n",
    "def right_click():\n",
    "    pyautogui.rightClick()\n",
    "\n",
    "# This function will close the right click menu\n",
    "def close_menu():\n",
    "    pyautogui.hotkey('esc')\n",
    "\n",
    "# This function will start a loop that will right click and close the menu every 10 seconds\n",
    "def start_loop():\n",
    "    while True:\n",
    "        right_click()\n",
    "        time.sleep(200)\n",
    "        close_menu()\n",
    "\n",
    "# Start the loop\n",
    "start_loop()"
   ]
  },
  {
   "cell_type": "code",
   "execution_count": null,
   "id": "6c4ed989-21f4-48e6-8a12-c138c244cf43",
   "metadata": {},
   "outputs": [],
   "source": []
  },
  {
   "cell_type": "code",
   "execution_count": null,
   "id": "c60554e1-6a50-457e-8708-b8e465467629",
   "metadata": {},
   "outputs": [],
   "source": []
  }
 ],
 "metadata": {
  "kernelspec": {
   "display_name": "Python 3 (ipykernel)",
   "language": "python",
   "name": "python3"
  },
  "language_info": {
   "codemirror_mode": {
    "name": "ipython",
    "version": 3
   },
   "file_extension": ".py",
   "mimetype": "text/x-python",
   "name": "python",
   "nbconvert_exporter": "python",
   "pygments_lexer": "ipython3",
   "version": "3.9.19"
  }
 },
 "nbformat": 4,
 "nbformat_minor": 5
}
