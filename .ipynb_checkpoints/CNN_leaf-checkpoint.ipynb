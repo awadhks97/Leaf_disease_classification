{
 "cells": [
  {
   "cell_type": "code",
   "execution_count": 1,
   "metadata": {
    "tags": []
   },
   "outputs": [
    {
     "name": "stdout",
     "output_type": "stream",
     "text": [
      "WARNING:tensorflow:From C:\\Users\\awadh\\AppData\\Roaming\\Python\\Python311\\site-packages\\keras\\src\\losses.py:2976: The name tf.losses.sparse_softmax_cross_entropy is deprecated. Please use tf.compat.v1.losses.sparse_softmax_cross_entropy instead.\n",
      "\n"
     ]
    }
   ],
   "source": [
    " #Importing Various Modules\n",
    " # Ignore  the warnings\n",
    "import warnings\n",
    "warnings.filterwarnings('always')\n",
    "warnings.filterwarnings('ignore')\n",
    "\n",
    "# data visualisation and manipulation\n",
    "import numpy as np\n",
    "import pandas as pd\n",
    "import matplotlib.pyplot as plt\n",
    "from matplotlib import style\n",
    "import seaborn as sns\n",
    "\n",
    "#configure\n",
    "# sets matplotlib to inline and displays graphs below the corressponding cell.\n",
    "%matplotlib inline\n",
    "style.use('fivethirtyeight')\n",
    "sns.set(style='whitegrid',color_codes=True)\n",
    "\n",
    "#model selection\n",
    "from sklearn.model_selection import train_test_split\n",
    "from sklearn.model_selection import KFold\n",
    "from sklearn.metrics import accuracy_score,precision_score,recall_score,confusion_matrix,roc_curve,roc_auc_score\n",
    "from sklearn.model_selection import GridSearchCV\n",
    "from sklearn.preprocessing import LabelEncoder\n",
    "\n",
    "#preprocess.\n",
    "from keras.preprocessing.image import ImageDataGenerator\n",
    "\n",
    "#dl libraraies\n",
    "from keras import backend as K\n",
    "from keras.models import Sequential\n",
    "from keras.layers import Dense\n",
    "from keras.optimizers import Adam,SGD,Adagrad,Adadelta,RMSprop\n",
    "from keras.utils import to_categorical\n",
    "\n",
    "# specifically for cnn\n",
    "from keras.layers import Dropout, Flatten,Activation\n",
    "from keras.layers import Conv2D, MaxPooling2D, BatchNormalization\n",
    "\n",
    "import tensorflow as tf\n",
    "import random as rn\n",
    "\n",
    "# specifically for manipulating zipped images and getting numpy arrays of pixel values of images.\n",
    "import cv2\n",
    "import numpy as np\n",
    "from tqdm import tqdm\n",
    "import os\n",
    "from random import shuffle\n",
    "from zipfile import ZipFile\n",
    "from PIL import Image"
   ]
  },
  {
   "cell_type": "code",
   "execution_count": 2,
   "metadata": {
    "tags": []
   },
   "outputs": [
    {
     "name": "stdout",
     "output_type": "stream",
     "text": [
      "['Apple___Apple_scab', 'Apple___Black_rot', 'Apple___Cedar_apple_rust', 'Apple___healthy', 'Blueberry___healthy', 'Cherry_(including_sour)___healthy', 'Cherry_(including_sour)___Powdery_mildew', 'Corn_(maize)___Cercospora_leaf_spot Gray_leaf_spot', 'Corn_(maize)___Common_rust_', 'Corn_(maize)___healthy', 'Corn_(maize)___Northern_Leaf_Blight', 'Grape___Black_rot', 'Grape___Esca_(Black_Measles)', 'Grape___healthy', 'Grape___Leaf_blight_(Isariopsis_Leaf_Spot)', 'Orange___Haunglongbing_(Citrus_greening)', 'Peach___Bacterial_spot', 'Peach___healthy', 'Pepper,_bell___Bacterial_spot', 'Pepper,_bell___healthy', 'Potato___Early_blight', 'Potato___healthy', 'Potato___Late_blight', 'Raspberry___healthy', 'Soybean___healthy', 'Squash___Powdery_mildew', 'Strawberry___healthy', 'Strawberry___Leaf_scorch', 'Tomato___Bacterial_spot', 'Tomato___Early_blight', 'Tomato___healthy', 'Tomato___Late_blight', 'Tomato___Leaf_Mold', 'Tomato___Septoria_leaf_spot', 'Tomato___Spider_mites Two-spotted_spider_mite', 'Tomato___Target_Spot', 'Tomato___Tomato_mosaic_virus', 'Tomato___Tomato_Yellow_Leaf_Curl_Virus']\n"
     ]
    }
   ],
   "source": [
    "origin = 'C:/Users/awadh/Data Science/Leaf Predection/dataset'\n",
    "files = os.listdir(origin)\n",
    "\n",
    "print(files)\n",
    "\n",
    "files_dir = os.listdir"
   ]
  },
  {
   "cell_type": "code",
   "execution_count": 3,
   "metadata": {
    "tags": []
   },
   "outputs": [
    {
     "name": "stdout",
     "output_type": "stream",
     "text": [
      "'C:/Users/awadh/Data Science/Leaf Predection/dataset',\n",
      "'C:/Users/awadh/Data Science/Leaf Predection/dataset\\Apple___Apple_scab',\n",
      "'C:/Users/awadh/Data Science/Leaf Predection/dataset\\Apple___Black_rot',\n",
      "'C:/Users/awadh/Data Science/Leaf Predection/dataset\\Apple___Cedar_apple_rust',\n",
      "'C:/Users/awadh/Data Science/Leaf Predection/dataset\\Apple___healthy',\n",
      "'C:/Users/awadh/Data Science/Leaf Predection/dataset\\Blueberry___healthy',\n",
      "'C:/Users/awadh/Data Science/Leaf Predection/dataset\\Cherry_(including_sour)___healthy',\n",
      "'C:/Users/awadh/Data Science/Leaf Predection/dataset\\Cherry_(including_sour)___Powdery_mildew',\n",
      "'C:/Users/awadh/Data Science/Leaf Predection/dataset\\Corn_(maize)___Cercospora_leaf_spot Gray_leaf_spot',\n",
      "'C:/Users/awadh/Data Science/Leaf Predection/dataset\\Corn_(maize)___Common_rust_',\n",
      "'C:/Users/awadh/Data Science/Leaf Predection/dataset\\Corn_(maize)___healthy',\n",
      "'C:/Users/awadh/Data Science/Leaf Predection/dataset\\Corn_(maize)___Northern_Leaf_Blight',\n",
      "'C:/Users/awadh/Data Science/Leaf Predection/dataset\\Grape___Black_rot',\n",
      "'C:/Users/awadh/Data Science/Leaf Predection/dataset\\Grape___Esca_(Black_Measles)',\n",
      "'C:/Users/awadh/Data Science/Leaf Predection/dataset\\Grape___healthy',\n",
      "'C:/Users/awadh/Data Science/Leaf Predection/dataset\\Grape___Leaf_blight_(Isariopsis_Leaf_Spot)',\n",
      "'C:/Users/awadh/Data Science/Leaf Predection/dataset\\Orange___Haunglongbing_(Citrus_greening)',\n",
      "'C:/Users/awadh/Data Science/Leaf Predection/dataset\\Peach___Bacterial_spot',\n",
      "'C:/Users/awadh/Data Science/Leaf Predection/dataset\\Peach___healthy',\n",
      "'C:/Users/awadh/Data Science/Leaf Predection/dataset\\Pepper,_bell___Bacterial_spot',\n",
      "'C:/Users/awadh/Data Science/Leaf Predection/dataset\\Pepper,_bell___healthy',\n",
      "'C:/Users/awadh/Data Science/Leaf Predection/dataset\\Potato___Early_blight',\n",
      "'C:/Users/awadh/Data Science/Leaf Predection/dataset\\Potato___healthy',\n",
      "'C:/Users/awadh/Data Science/Leaf Predection/dataset\\Potato___Late_blight',\n",
      "'C:/Users/awadh/Data Science/Leaf Predection/dataset\\Raspberry___healthy',\n",
      "'C:/Users/awadh/Data Science/Leaf Predection/dataset\\Soybean___healthy',\n",
      "'C:/Users/awadh/Data Science/Leaf Predection/dataset\\Squash___Powdery_mildew',\n",
      "'C:/Users/awadh/Data Science/Leaf Predection/dataset\\Strawberry___healthy',\n",
      "'C:/Users/awadh/Data Science/Leaf Predection/dataset\\Strawberry___Leaf_scorch',\n",
      "'C:/Users/awadh/Data Science/Leaf Predection/dataset\\Tomato___Bacterial_spot',\n",
      "'C:/Users/awadh/Data Science/Leaf Predection/dataset\\Tomato___Early_blight',\n",
      "'C:/Users/awadh/Data Science/Leaf Predection/dataset\\Tomato___healthy',\n",
      "'C:/Users/awadh/Data Science/Leaf Predection/dataset\\Tomato___Late_blight',\n",
      "'C:/Users/awadh/Data Science/Leaf Predection/dataset\\Tomato___Leaf_Mold',\n",
      "'C:/Users/awadh/Data Science/Leaf Predection/dataset\\Tomato___Septoria_leaf_spot',\n",
      "'C:/Users/awadh/Data Science/Leaf Predection/dataset\\Tomato___Spider_mites Two-spotted_spider_mite',\n",
      "'C:/Users/awadh/Data Science/Leaf Predection/dataset\\Tomato___Target_Spot',\n",
      "'C:/Users/awadh/Data Science/Leaf Predection/dataset\\Tomato___Tomato_mosaic_virus',\n",
      "'C:/Users/awadh/Data Science/Leaf Predection/dataset\\Tomato___Tomato_Yellow_Leaf_Curl_Virus',\n"
     ]
    }
   ],
   "source": [
    "import os\n",
    "\n",
    "def print_directory_paths(directory_path):\n",
    "  \"\"\"Prints the path of all directories in the specified directory and its subdirectories.\"\"\"\n",
    "  for current_path, directories, files in os.walk(directory_path):\n",
    "    print(\"'\"+current_path+\"'\"+\",\")\n",
    "\n",
    "print_directory_paths('C:/Users/awadh/Data Science/Leaf Predection/dataset')\n"
   ]
  },
  {
   "cell_type": "code",
   "execution_count": 4,
   "metadata": {
    "id": "IhpQ5gT99P4Y",
    "tags": []
   },
   "outputs": [],
   "source": [
    "X=[]\n",
    "Z=[]\n",
    "IMG_SIZE=64\n",
    "b= ['C:/Users/awadh/Data Science/Leaf Predection/dataset\\Apple___Apple_scab',\n",
    "'C:/Users/awadh/Data Science/Leaf Predection/dataset\\Apple___Black_rot',\n",
    "'C:/Users/awadh/Data Science/Leaf Predection/dataset\\Apple___Cedar_apple_rust',\n",
    "'C:/Users/awadh/Data Science/Leaf Predection/dataset\\Apple___healthy',\n",
    "'C:/Users/awadh/Data Science/Leaf Predection/dataset\\Blueberry___healthy',\n",
    "'C:/Users/awadh/Data Science/Leaf Predection/dataset\\Cherry_(including_sour)___healthy',\n",
    "'C:/Users/awadh/Data Science/Leaf Predection/dataset\\Cherry_(including_sour)___Powdery_mildew',\n",
    "'C:/Users/awadh/Data Science/Leaf Predection/dataset\\Corn_(maize)___Cercospora_leaf_spot Gray_leaf_spot',\n",
    "'C:/Users/awadh/Data Science/Leaf Predection/dataset\\Corn_(maize)___Common_rust_',\n",
    "'C:/Users/awadh/Data Science/Leaf Predection/dataset\\Corn_(maize)___healthy',\n",
    "'C:/Users/awadh/Data Science/Leaf Predection/dataset\\Corn_(maize)___Northern_Leaf_Blight',\n",
    "'C:/Users/awadh/Data Science/Leaf Predection/dataset\\Grape___Black_rot',\n",
    "'C:/Users/awadh/Data Science/Leaf Predection/dataset\\Grape___Esca_(Black_Measles)',\n",
    "'C:/Users/awadh/Data Science/Leaf Predection/dataset\\Grape___healthy',\n",
    "'C:/Users/awadh/Data Science/Leaf Predection/dataset\\Grape___Leaf_blight_(Isariopsis_Leaf_Spot)',\n",
    "'C:/Users/awadh/Data Science/Leaf Predection/dataset\\Orange___Haunglongbing_(Citrus_greening)',\n",
    "'C:/Users/awadh/Data Science/Leaf Predection/dataset\\Peach___Bacterial_spot',\n",
    "'C:/Users/awadh/Data Science/Leaf Predection/dataset\\Peach___healthy',\n",
    "'C:/Users/awadh/Data Science/Leaf Predection/dataset\\Pepper,_bell___Bacterial_spot',\n",
    "'C:/Users/awadh/Data Science/Leaf Predection/dataset\\Pepper,_bell___healthy',\n",
    "'C:/Users/awadh/Data Science/Leaf Predection/dataset\\Potato___Early_blight',\n",
    "'C:/Users/awadh/Data Science/Leaf Predection/dataset\\Potato___healthy',\n",
    "'C:/Users/awadh/Data Science/Leaf Predection/dataset\\Potato___Late_blight',\n",
    "'C:/Users/awadh/Data Science/Leaf Predection/dataset\\Raspberry___healthy',\n",
    "'C:/Users/awadh/Data Science/Leaf Predection/dataset\\Soybean___healthy',\n",
    "'C:/Users/awadh/Data Science/Leaf Predection/dataset\\Squash___Powdery_mildew',\n",
    "'C:/Users/awadh/Data Science/Leaf Predection/dataset\\Strawberry___healthy',\n",
    "'C:/Users/awadh/Data Science/Leaf Predection/dataset\\Strawberry___Leaf_scorch',\n",
    "'C:/Users/awadh/Data Science/Leaf Predection/dataset\\Tomato___Bacterial_spot',\n",
    "'C:/Users/awadh/Data Science/Leaf Predection/dataset\\Tomato___Early_blight',\n",
    "'C:/Users/awadh/Data Science/Leaf Predection/dataset\\Tomato___healthy',\n",
    "'C:/Users/awadh/Data Science/Leaf Predection/dataset\\Tomato___Late_blight',\n",
    "'C:/Users/awadh/Data Science/Leaf Predection/dataset\\Tomato___Leaf_Mold',\n",
    "'C:/Users/awadh/Data Science/Leaf Predection/dataset\\Tomato___Septoria_leaf_spot',\n",
    "'C:/Users/awadh/Data Science/Leaf Predection/dataset\\Tomato___Spider_mites Two-spotted_spider_mite',\n",
    "'C:/Users/awadh/Data Science/Leaf Predection/dataset\\Tomato___Target_Spot',\n",
    "'C:/Users/awadh/Data Science/Leaf Predection/dataset\\Tomato___Tomato_mosaic_virus',\n",
    "'C:/Users/awadh/Data Science/Leaf Predection/dataset\\Tomato___Tomato_Yellow_Leaf_Curl_Virus']\n",
    "\n",
    "a = ['Apple___Apple_scab', 'Apple___Black_rot', 'Apple___Cedar_apple_rust', 'Apple___healthy', \n",
    "     'Blueberry___healthy', 'Cherry_(including_sour)___healthy', 'Cherry_(including_sour)___Powdery_mildew', \n",
    "     'Corn_(maize)___Cercospora_leaf_spot Gray_leaf_spot', 'Corn_(maize)___Common_rust_', 'Corn_(maize)___healthy', \n",
    "     'Corn_(maize)___Northern_Leaf_Blight', 'Grape___Black_rot', 'Grape___Esca_(Black_Measles)', 'Grape___healthy', \n",
    "     'Grape___Leaf_blight_(Isariopsis_Leaf_Spot)', 'Orange___Haunglongbing_(Citrus_greening)', 'Peach___Bacterial_spot', \n",
    "     'Peach___healthy', 'Pepper,_bell___Bacterial_spot', 'Pepper,_bell___healthy', 'Potato___Early_blight', 'Potato___healthy', \n",
    "     'Potato___Late_blight', 'Raspberry___healthy', 'Soybean___healthy', 'Squash___Powdery_mildew', 'Strawberry___healthy',\n",
    "     'Strawberry___Leaf_scorch', 'Tomato___Bacterial_spot', 'Tomato___Early_blight',\n",
    "     'Tomato___healthy', 'Tomato___Late_blight', 'Tomato___Leaf_Mold', \n",
    "     'Tomato___Septoria_leaf_spot', 'Tomato___Spider_mites Two-spotted_spider_mite', 'Tomato___Target_Spot', \n",
    "     'Tomato___Tomato_mosaic_virus', 'Tomato___Tomato_Yellow_Leaf_Curl_Virus']\n",
    "\n"
   ]
  },
  {
   "cell_type": "code",
   "execution_count": 5,
   "metadata": {
    "id": "WKmOBH3Q9cYG",
    "tags": []
   },
   "outputs": [],
   "source": [
    "def assign_label(img,character_type):\n",
    "    return character_type"
   ]
  },
  {
   "cell_type": "code",
   "execution_count": 6,
   "metadata": {
    "id": "JJAFq9to9fpR",
    "tags": []
   },
   "outputs": [],
   "source": [
    "def make_train_data(character_type,DIR):\n",
    "    for img in tqdm(os.listdir(DIR)):\n",
    "        label=assign_label(img,character_type)\n",
    "        path = os.path.join(DIR,img)\n",
    "        img = cv2.imread(path,cv2.IMREAD_COLOR)\n",
    "        img = cv2.resize(img, (IMG_SIZE,IMG_SIZE))\n",
    "\n",
    "        X.append(np.array(img))\n",
    "        Z.append(str(label))"
   ]
  },
  {
   "cell_type": "code",
   "execution_count": 7,
   "metadata": {
    "colab": {
     "base_uri": "https://localhost:8080/",
     "height": 51
    },
    "id": "Koe5JsrS9jJW",
    "outputId": "0a222477-65de-422b-8ce0-4a0e2714ffa1",
    "tags": []
   },
   "outputs": [
    {
     "name": "stderr",
     "output_type": "stream",
     "text": [
      "100%|██████████| 2520/2520 [00:11<00:00, 219.98it/s]\n",
      "100%|██████████| 2484/2484 [00:11<00:00, 224.36it/s]\n",
      "100%|██████████| 2200/2200 [00:09<00:00, 236.64it/s]\n",
      "100%|██████████| 2510/2510 [00:10<00:00, 232.17it/s]\n",
      "100%|██████████| 2270/2270 [00:09<00:00, 227.37it/s]\n",
      "100%|██████████| 2282/2282 [00:10<00:00, 227.04it/s]\n",
      "100%|██████████| 2104/2104 [00:09<00:00, 221.50it/s]\n",
      "100%|██████████| 2052/2052 [00:09<00:00, 221.82it/s]\n",
      "100%|██████████| 2384/2384 [00:10<00:00, 233.35it/s]\n",
      "100%|██████████| 2324/2324 [00:10<00:00, 219.80it/s]\n",
      "100%|██████████| 2385/2385 [00:10<00:00, 227.80it/s]\n",
      "100%|██████████| 2360/2360 [00:10<00:00, 220.91it/s]\n",
      "100%|██████████| 2400/2400 [00:10<00:00, 221.64it/s]\n",
      "100%|██████████| 2115/2115 [00:09<00:00, 231.40it/s]\n",
      "100%|██████████| 2152/2152 [00:09<00:00, 222.08it/s]\n",
      "100%|██████████| 2513/2513 [00:11<00:00, 226.65it/s]\n",
      "100%|██████████| 2297/2297 [00:09<00:00, 234.36it/s]\n",
      "100%|██████████| 2160/2160 [00:09<00:00, 229.60it/s]\n",
      "100%|██████████| 2391/2391 [00:10<00:00, 227.00it/s]\n",
      "100%|██████████| 2485/2485 [00:10<00:00, 236.77it/s]\n",
      "100%|██████████| 2424/2424 [00:10<00:00, 226.72it/s]\n",
      "100%|██████████| 2280/2280 [00:09<00:00, 231.16it/s]\n",
      "100%|██████████| 2424/2424 [00:10<00:00, 234.50it/s]\n",
      "100%|██████████| 2226/2226 [00:09<00:00, 227.89it/s]\n",
      "100%|██████████| 2527/2527 [00:10<00:00, 239.19it/s]\n",
      "100%|██████████| 2170/2170 [00:09<00:00, 232.61it/s]\n",
      "100%|██████████| 2280/2280 [00:09<00:00, 229.83it/s]\n",
      "100%|██████████| 2218/2218 [00:09<00:00, 238.88it/s]\n",
      "100%|██████████| 2127/2127 [00:09<00:00, 235.61it/s]\n",
      "100%|██████████| 2400/2400 [00:10<00:00, 238.51it/s]\n",
      " 91%|█████████ | 2184/2407 [00:09<00:00, 227.14it/s]\n"
     ]
    },
    {
     "ename": "KeyboardInterrupt",
     "evalue": "",
     "output_type": "error",
     "traceback": [
      "\u001b[1;31m---------------------------------------------------------------------------\u001b[0m",
      "\u001b[1;31mKeyboardInterrupt\u001b[0m                         Traceback (most recent call last)",
      "Cell \u001b[1;32mIn[7], line 2\u001b[0m\n\u001b[0;32m      1\u001b[0m \u001b[38;5;28;01mfor\u001b[39;00m i \u001b[38;5;129;01min\u001b[39;00m \u001b[38;5;28mrange\u001b[39m (\u001b[38;5;28mlen\u001b[39m(a)):\n\u001b[1;32m----> 2\u001b[0m     make_train_data(a[i],b[i])\n\u001b[0;32m      3\u001b[0m \u001b[38;5;28mprint\u001b[39m(\u001b[38;5;28mlen\u001b[39m(X))\n",
      "Cell \u001b[1;32mIn[6], line 5\u001b[0m, in \u001b[0;36mmake_train_data\u001b[1;34m(character_type, DIR)\u001b[0m\n\u001b[0;32m      3\u001b[0m label\u001b[38;5;241m=\u001b[39massign_label(img,character_type)\n\u001b[0;32m      4\u001b[0m path \u001b[38;5;241m=\u001b[39m os\u001b[38;5;241m.\u001b[39mpath\u001b[38;5;241m.\u001b[39mjoin(DIR,img)\n\u001b[1;32m----> 5\u001b[0m img \u001b[38;5;241m=\u001b[39m cv2\u001b[38;5;241m.\u001b[39mimread(path,cv2\u001b[38;5;241m.\u001b[39mIMREAD_COLOR)\n\u001b[0;32m      6\u001b[0m img \u001b[38;5;241m=\u001b[39m cv2\u001b[38;5;241m.\u001b[39mresize(img, (IMG_SIZE,IMG_SIZE))\n\u001b[0;32m      8\u001b[0m X\u001b[38;5;241m.\u001b[39mappend(np\u001b[38;5;241m.\u001b[39marray(img))\n",
      "\u001b[1;31mKeyboardInterrupt\u001b[0m: "
     ]
    }
   ],
   "source": [
    "\n",
    "for i in range (len(a)):\n",
    "    make_train_data(a[i],b[i])\n",
    "print(len(X))"
   ]
  },
  {
   "cell_type": "code",
   "execution_count": null,
   "metadata": {
    "colab": {
     "base_uri": "https://localhost:8080/",
     "height": 1000
    },
    "id": "H8_BMX7cC7mF",
    "outputId": "55fe6ef6-7945-4fca-e2ec-7bad61c59da8",
    "tags": []
   },
   "outputs": [],
   "source": [
    "#Visualizing some Random Images\n",
    "fig,ax=plt.subplots(5,2)\n",
    "fig.set_size_inches(15,15)\n",
    "for i in range(5):\n",
    "    for j in range (2):\n",
    "        l=rn.randint(0,len(Z))\n",
    "        ax[i,j].imshow(X[l])\n",
    "        ax[i,j].set_title('Plant Leaf : '+Z[l])\n",
    "\n",
    "plt.tight_layout()"
   ]
  },
  {
   "cell_type": "code",
   "execution_count": null,
   "metadata": {
    "id": "ul7CgmXWDB-8",
    "tags": []
   },
   "outputs": [],
   "source": [
    "#Label Encoding the Y array  then One Hot Encoding\n",
    "le=LabelEncoder()\n",
    "Y=le.fit_transform(Z)\n",
    "Y=to_categorical(Y,38)\n",
    "X=np.array(X)\n",
    "X=X/255"
   ]
  },
  {
   "cell_type": "code",
   "execution_count": null,
   "metadata": {
    "id": "M3JQhrqADVL4",
    "tags": []
   },
   "outputs": [],
   "source": [
    "#Using a LR Annealer\n",
    "from keras.callbacks import ReduceLROnPlateau\n",
    "red_lr= ReduceLROnPlateau(monitor='val_acc',patience=3,verbose=1,factor=0.1)\n"
   ]
  },
  {
   "cell_type": "code",
   "execution_count": null,
   "metadata": {
    "id": "FZ0wM73eDdOZ",
    "tags": []
   },
   "outputs": [],
   "source": [
    "#Data Augmentation to prevent Overfitting\n",
    "datagen = ImageDataGenerator(\n",
    "        featurewise_center=False,  # set input mean to 0 over the dataset\n",
    "        samplewise_center=False,  # set each sample mean to 0\n",
    "        featurewise_std_normalization=False,  # divide inputs by std of the dataset\n",
    "        samplewise_std_normalization=False,  # divide each input by its std\n",
    "        zca_whitening=False,  # apply ZCA whitening\n",
    "        rotation_range=10,  # randomly rotate images in the range (degrees, 0 to 180)\n",
    "        zoom_range = 0.1, # Randomly zoom image\n",
    "        width_shift_range=0.2,  # randomly shift images horizontally (fraction of total width)\n",
    "        height_shift_range=0.2,  # randomly shift images vertically (fraction of total height)\n",
    "        horizontal_flip=True,  # randomly flip images\n",
    "        vertical_flip=False)  # randomly flip images\n",
    "\n",
    "\n"
   ]
  },
  {
   "cell_type": "code",
   "execution_count": null,
   "metadata": {
    "id": "b272wuU2DvgI",
    "tags": []
   },
   "outputs": [],
   "source": [
    " #Evaluating the Model Performance\n",
    "def model_loss():\n",
    "    plt.plot(History.history['loss'])\n",
    "    plt.plot(History.history['val_loss'])\n",
    "    plt.title('Model Loss')\n",
    "    plt.ylabel('Loss')\n",
    "    plt.xlabel('Epochs')\n",
    "    plt.legend(['train', 'test'])\n",
    "    plt.show()\n",
    "    plt.savefig('model_loss.png')"
   ]
  },
  {
   "cell_type": "code",
   "execution_count": null,
   "metadata": {
    "id": "NRVm4rJQDx-b",
    "tags": []
   },
   "outputs": [],
   "source": [
    "def model_accuracy():\n",
    "    plt.plot(History.history['accuracy'])\n",
    "    plt.plot(History.history['val_accuracy'])\n",
    "    plt.title('Model Accuracy')\n",
    "    plt.ylabel('Accuracy')\n",
    "    plt.xlabel('Epochs')\n",
    "    plt.legend(['train', 'test'])\n",
    "    plt.show()\n",
    "    plt.savefig('model_accuracy.png')"
   ]
  },
  {
   "cell_type": "code",
   "execution_count": null,
   "metadata": {
    "id": "yqh5vHZdD8dR",
    "tags": []
   },
   "outputs": [],
   "source": [
    "#Visualizing Predictons on the Validation Set\n",
    "# getting predictions on val set.\n",
    "def prediction(x_test,y_test,model):\n",
    "    pred=model_1.predict(x_test)\n",
    "    pred_digits=np.argmax(pred,axis=1)\n",
    "    return pred,pred_digits,model"
   ]
  },
  {
   "cell_type": "code",
   "execution_count": null,
   "metadata": {
    "id": "TRgMp-Iy1_bk",
    "tags": []
   },
   "outputs": [],
   "source": [
    "def classified_character():\n",
    "    count=0\n",
    "    for i in range (len(prop_class)):\n",
    "        #print(str(i) + \" hello\")\n",
    "        print(str(i) +\" \"+ \"Predicted Plant Leaf :\"+str(le.inverse_transform([pred_digits[prop_class[count]]]))+\"    \"+\n",
    "              \"Actual Plant Leaf : \"+str(le.inverse_transform([np.argmax(y_test[prop_class[count]])])))\n",
    "        count+=1\n",
    "\n",
    "def misclassified_charcter():\n",
    "    count=0\n",
    "    for i in range (len(mis_class)):\n",
    "        #print(str(i) + \" hello\")\n",
    "        print(str(i)+\" \"+\"Predicted Plant Leaf :\"+str(le.inverse_transform([pred_digits[mis_class[count]]]))+\"   \"+\n",
    "              \"Actual Plant Leaf : \"+str(le.inverse_transform([np.argmax(y_test[mis_class[count]])])))\n",
    "        count+=1"
   ]
  },
  {
   "cell_type": "code",
   "execution_count": null,
   "metadata": {
    "id": "ZqaOuBREDI2t",
    "tags": []
   },
   "outputs": [],
   "source": [
    "# Splitting into Training and Validation Sets\n",
    "def split(X,Y,test_size):\n",
    "    x_train,x_test,y_train,y_test=train_test_split(X,Y,test_size=test_size)\n",
    "    print(\"X_tain : - \",x_train.shape)\n",
    "    print(\"X_test : - \",x_test.shape)\n",
    "    print(\"Y_tain : - \",y_train.shape)\n",
    "    print(\"Y_test : - \",y_test.shape)\n",
    "    return x_train,x_test,y_train,y_test\n",
    "\n"
   ]
  },
  {
   "cell_type": "code",
   "execution_count": null,
   "metadata": {
    "id": "65fZ7kfE1_bk",
    "tags": []
   },
   "outputs": [],
   "source": [
    "\n",
    "def display():\n",
    "\n",
    "\n",
    "    # Display the graph of model\n",
    "    model_loss()\n",
    "    model_accuracy()\n",
    "\n",
    "\n",
    "    # now storing some properly as well as misclassified indexes'.\n",
    "\n",
    "\n",
    "\n",
    "    # print(\"\\n CLASSIFIED CHARCTER \\n \")\n",
    "    # classified_character()\n",
    "    # print(\"\\n\")\n",
    "    # print(\" MISSCLASSIFIED CHARCTER \\n\")\n",
    "    # misclassified_charcter()\n"
   ]
  },
  {
   "cell_type": "code",
   "execution_count": null,
   "metadata": {
    "id": "m5uRAcTO1_bk",
    "outputId": "97051b25-590e-4aae-f99f-594529af4826",
    "tags": []
   },
   "outputs": [],
   "source": [
    "#spliting the dataset\n",
    "x_train,x_test,y_train,y_test = split(X,Y,0.3)\n",
    "datagen.fit(x_train)\n",
    "batch_size=128"
   ]
  },
  {
   "cell_type": "markdown",
   "metadata": {
    "id": "kZz03vzQ1_bl"
   },
   "source": [
    "<h2> <b> 10</b></h2>"
   ]
  },
  {
   "cell_type": "code",
   "execution_count": null,
   "metadata": {
    "id": "rMR-mnr5Dhvh",
    "outputId": "6c62a85b-0e5d-46e4-9b99-d62b3e1fe788"
   },
   "outputs": [],
   "source": [
    "#load the model from device\n",
    "#specifically for time\n",
    "import time\n",
    "model_1 = tf.keras.models.load_model('model.h5')\n",
    "\n",
    "epochs =100\n",
    "start = time.time()\n",
    "#Fitting on the Training set and making predcitons on the Validation set\n",
    "\n",
    "History = model_1.fit_generator(datagen.flow(x_train,y_train, batch_size=batch_size),\n",
    "                              epochs = epochs, validation_data = (x_test,y_test),\n",
    "                              verbose = 1, steps_per_epoch=x_train.shape[0] // batch_size)\n",
    "\n",
    "done = time.time()\n"
   ]
  },
  {
   "cell_type": "code",
   "execution_count": null,
   "metadata": {
    "tags": []
   },
   "outputs": [],
   "source": [
    "display()"
   ]
  },
  {
   "cell_type": "code",
   "execution_count": null,
   "metadata": {
    "tags": []
   },
   "outputs": [],
   "source": [
    "#Visualizing Predictons on the Validation Set\n",
    "# getting predictions on val set.\n",
    "pred=model_1.predict(x_test)\n",
    "pred_digits=np.argmax(pred,axis=1)"
   ]
  },
  {
   "cell_type": "code",
   "execution_count": null,
   "metadata": {
    "tags": []
   },
   "outputs": [],
   "source": [
    "# now storing some properly as well as misclassified indexes'.\n",
    "i=0\n",
    "prop_class=[]\n",
    "mis_class=[]\n",
    "\n",
    "for i in range(len(y_test)):\n",
    "    if(np.argmax(y_test[i])==pred_digits[i]):\n",
    "        prop_class.append(i)\n",
    "\n",
    "\n",
    "i=0\n",
    "for i in range(len(y_test)):\n",
    "    if(not np.argmax(y_test[i])==pred_digits[i]):\n",
    "        mis_class.append(i)"
   ]
  },
  {
   "cell_type": "code",
   "execution_count": null,
   "metadata": {
    "tags": []
   },
   "outputs": [],
   "source": [
    "#CORRECTLY CLASSIFIED IMAGES\n",
    "warnings.filterwarnings('always')\n",
    "warnings.filterwarnings('ignore')\n",
    "\n",
    "count=0\n",
    "fig,ax=plt.subplots(4,2)\n",
    "fig.set_size_inches(15,15)\n",
    "for i in range (4):\n",
    "    for j in range (2):\n",
    "        ax[i,j].imshow(x_test[prop_class[count]])\n",
    "        ax[i,j].set_title(\"Predicted Plant Leaf :\"+str(le.inverse_transform([pred_digits[prop_class[count]]]))+\"\\n\"+\"Actual Plant Leaf : \"+str(le.inverse_transform([np.argmax(y_test[prop_class[count]])])),color = 'g')\n",
    "        plt.tight_layout()\n",
    "        count+=1"
   ]
  },
  {
   "cell_type": "code",
   "execution_count": null,
   "metadata": {
    "tags": []
   },
   "outputs": [],
   "source": [
    "#MISCLASSIFIED IMAGES \n",
    "warnings.filterwarnings('always')\n",
    "warnings.filterwarnings('ignore')\n",
    "\n",
    "count=0\n",
    "fig,ax=plt.subplots(4,2)\n",
    "fig.set_size_inches(15,15)\n",
    "for i in range (4):\n",
    "    for j in range (2):\n",
    "        ax[i,j].imshow(x_test[mis_class[count]])\n",
    "        ax[i,j].set_title(\"Predicted Plant Leaf :\"+str(le.inverse_transform([pred_digits[mis_class[count]]]))+\"\\n\"+\"Actual Plant Leaf : \"+str(le.inverse_transform([np.argmax(y_test[mis_class[count]])])),color = 'r')\n",
    "        plt.tight_layout()\n",
    "        count+=1"
   ]
  },
  {
   "cell_type": "code",
   "execution_count": null,
   "metadata": {},
   "outputs": [],
   "source": []
  }
 ],
 "metadata": {
  "colab": {
   "provenance": []
  },
  "kernelspec": {
   "display_name": "Python 3 (ipykernel)",
   "language": "python",
   "name": "python3"
  },
  "language_info": {
   "codemirror_mode": {
    "name": "ipython",
    "version": 3
   },
   "file_extension": ".py",
   "mimetype": "text/x-python",
   "name": "python",
   "nbconvert_exporter": "python",
   "pygments_lexer": "ipython3",
   "version": "3.11.4"
  }
 },
 "nbformat": 4,
 "nbformat_minor": 4
}
