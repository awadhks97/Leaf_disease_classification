{
 "cells": [
  {
   "cell_type": "code",
   "execution_count": 1,
   "id": "0593d312-07f7-4d21-b9c8-65ada41e447c",
   "metadata": {
    "tags": []
   },
   "outputs": [],
   "source": [
    "import tensorflow_datasets as tfds\n",
    "import pathlib\n",
    "\n",
    "# Set the path where you want to save the dataset\n",
    "save_path = pathlib.Path('D:/Data Science/NYU')\n",
    "save_path.mkdir(parents=True, exist_ok=True)\n",
    "\n",
    "# Choose the TensorFlow dataset you want to download\n",
    "dataset_name = 'nyu_depth_v2'\n",
    "\n"
   ]
  },
  {
   "cell_type": "code",
   "execution_count": null,
   "id": "810c7adf-6ee1-4a1a-a78f-d44bc3af2aba",
   "metadata": {
    "tags": []
   },
   "outputs": [
    {
     "name": "stdout",
     "output_type": "stream",
     "text": [
      "WARNING:tensorflow:From C:\\Users\\awadh\\AppData\\Roaming\\Python\\Python311\\site-packages\\keras\\src\\losses.py:2976: The name tf.losses.sparse_softmax_cross_entropy is deprecated. Please use tf.compat.v1.losses.sparse_softmax_cross_entropy instead.\n",
      "\n",
      "\u001b[1mDownloading and preparing dataset Unknown size (download: Unknown size, generated: Unknown size, total: Unknown size) to D:\\Data Science\\NYU\\nyu_depth_v2\\0.0.1...\u001b[0m\n"
     ]
    },
    {
     "data": {
      "application/vnd.jupyter.widget-view+json": {
       "model_id": "e485a1d31a5c404699a3197dc3bfaea9",
       "version_major": 2,
       "version_minor": 0
      },
      "text/plain": [
       "Dl Completed...: 0 url [00:00, ? url/s]"
      ]
     },
     "metadata": {},
     "output_type": "display_data"
    },
    {
     "data": {
      "application/vnd.jupyter.widget-view+json": {
       "model_id": "9570555b372e4cb5b53aaf47e5fd915e",
       "version_major": 2,
       "version_minor": 0
      },
      "text/plain": [
       "Dl Size...: 0 MiB [00:00, ? MiB/s]"
      ]
     },
     "metadata": {},
     "output_type": "display_data"
    },
    {
     "data": {
      "application/vnd.jupyter.widget-view+json": {
       "model_id": "35b920913ef640d88255c07b8a262f09",
       "version_major": 2,
       "version_minor": 0
      },
      "text/plain": [
       "Extraction completed...: 0 file [00:00, ? file/s]"
      ]
     },
     "metadata": {},
     "output_type": "display_data"
    }
   ],
   "source": [
    "# Download and split the dataset into train and test sets\n",
    "(train_data, test_data), dataset_info = tfds.load(dataset_name, split=['train', 'test'],\n",
    "                                                  shuffle_files=True,\n",
    "                                                  with_info=True,\n",
    "                                                  as_supervised=True,\n",
    "                                                  download=True,\n",
    "                                                  data_dir=save_path)\n",
    "\n",
    "# Save the train and test datasets to separate files\n",
    "train_data.save(save_path / 'train')\n",
    "test_data.save(save_path / 'test')"
   ]
  },
  {
   "cell_type": "code",
   "execution_count": null,
   "id": "9b3217b2-94a9-4030-a981-1c3d2dd7ad12",
   "metadata": {},
   "outputs": [],
   "source": []
  }
 ],
 "metadata": {
  "kernelspec": {
   "display_name": "Python 3 (ipykernel)",
   "language": "python",
   "name": "python3"
  },
  "language_info": {
   "codemirror_mode": {
    "name": "ipython",
    "version": 3
   },
   "file_extension": ".py",
   "mimetype": "text/x-python",
   "name": "python",
   "nbconvert_exporter": "python",
   "pygments_lexer": "ipython3",
   "version": "3.9.19"
  }
 },
 "nbformat": 4,
 "nbformat_minor": 5
}
